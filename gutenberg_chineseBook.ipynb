{
 "cells": [
  {
   "cell_type": "code",
   "execution_count": 2,
   "id": "c158a7c2",
   "metadata": {},
   "outputs": [],
   "source": [
    "\n",
    "import requests as req\n",
    "from bs4 import BeautifulSoup as bs\n",
    "import os\n",
    "import re"
   ]
  },
  {
   "cell_type": "code",
   "execution_count": null,
   "id": "699e319f",
   "metadata": {},
   "outputs": [],
   "source": []
  },
  {
   "cell_type": "code",
   "execution_count": 3,
   "id": "3bbc701c",
   "metadata": {},
   "outputs": [],
   "source": [
    "\n",
    "url = \"https://www.gutenberg.org/browse/languages/zh\" \n",
    "\n",
    "# 用 requests 的 get 方法把網頁抓下來\n",
    "res = req.get(url) \n",
    "\n",
    "# 指定 lxml 作為解析器\n",
    "soup = bs(res.text, \"lxml\") \n",
    "regex = r\"\\d+\"\n",
    "\n",
    "# 建立 list 來放置列表資訊\n",
    "list_posts = []\n",
    "\n",
    "\n",
    "\n",
    "for a in soup.select('li.pgdbetext a'):\n",
    "    # print(a.get_text())\n",
    "    # print('https://www.gutenberg.org/' + a['href'])\n",
    "    bookID = re.search(regex, a['href'])\n",
    "    \n",
    "    list_posts.append({\n",
    "        'title' : a.get_text(),\n",
    "        'link': 'https://www.gutenberg.org' +a['href'],\n",
    "        'txt' : 'https://www.gutenberg.org/cache/epub/'+bookID[0]+'/pg'+bookID[0]+\".txt\"\n",
    "    })\n",
    "\n",
    "   \n"
   ]
  },
  {
   "cell_type": "code",
   "execution_count": null,
   "id": "0fa01c12",
   "metadata": {},
   "outputs": [],
   "source": [
    "chineseContent = r'[^\\u4e00-\\u9fff，。！？：「」『』、；（）—…《》\\n]'\n",
    "folderPath = 'hw_txt'\n",
    "if not os.path.exists(folderPath):\n",
    "    os.makedirs(folderPath)\n",
    "    \n",
    "\n",
    "for index, obj in enumerate(list_posts):\n",
    "    try:\n",
    "        res_ = req.get(obj['txt'])\n",
    "        soup_ = bs(res_.text, 'lxml')\n",
    "        str_soup = soup_.decode_contents()\n",
    "        \n",
    "        only_ChineseBook = re.sub(chineseContent, '', str_soup)\n",
    "        \n",
    "        ID = re.search(regex, obj['txt'])\n",
    "\n",
    "        file_path = os.path.join(folderPath, f\"{ID[0]}-{obj['title']}.txt\")\n",
    "        with open(file_path, 'w', encoding='utf-8') as f:\n",
    "            f.write(only_ChineseBook)\n",
    "            \n",
    "        print(f\"已儲存：{file_path}\")\n",
    "    except :\n",
    "        print(\"=\" * 50)\n",
    "        print(f\"發生錯誤，略過{obj['title']}\")\n",
    "        print(\"=\" * 50)\n",
    "        pass\n",
    "\n",
    "\n",
    "    \n",
    "\n"
   ]
  }
 ],
 "metadata": {
  "kernelspec": {
   "display_name": "Python 3",
   "language": "python",
   "name": "python3"
  },
  "language_info": {
   "codemirror_mode": {
    "name": "ipython",
    "version": 3
   },
   "file_extension": ".py",
   "mimetype": "text/x-python",
   "name": "python",
   "nbconvert_exporter": "python",
   "pygments_lexer": "ipython3",
   "version": "3.13.3"
  }
 },
 "nbformat": 4,
 "nbformat_minor": 5
}
